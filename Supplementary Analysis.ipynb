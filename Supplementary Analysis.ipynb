{
 "cells": [
  {
   "cell_type": "markdown",
   "id": "a483b127",
   "metadata": {},
   "source": [
    "<p style=\"text-align:center\">\n",
    "    </p>\n",
    "\n",
    "# Supplementary Analysis\n",
    "by Eliana Gonzalez"
   ]
  },
  {
   "cell_type": "markdown",
   "id": "bd06edcf",
   "metadata": {},
   "source": [
    "This notebook presents the additional analyses conducted during the modeling process of the median spend in Nigeria, which were not included in the final report. These analyses were carried out to evaluate different models and compare their performance in relation to median spend in Nigeria and the independent variables. Although not included in the final report, they provide valuable insights into the decision-making process and factors considered in selecting the final model."
   ]
  },
  {
   "cell_type": "code",
   "execution_count": 1,
   "id": "4c50240f",
   "metadata": {},
   "outputs": [],
   "source": [
    "#import the libraries\n",
    "import numpy as np\n",
    "import pandas as pd\n",
    "import geopandas as gpd\n",
    "import statsmodels.api as sm\n",
    "import pysal\n",
    "import esda\n",
    "import spreg\n",
    "import libpysal.weights as lpw\n",
    "import pysal.model.spreg as spm\n",
    "import matplotlib.pyplot as plt\n",
    "import seaborn as sns"
   ]
  },
  {
   "cell_type": "code",
   "execution_count": 2,
   "id": "091832c5",
   "metadata": {},
   "outputs": [],
   "source": [
    "##Load the data and store it in dataframe\n",
    "#The otiginal file is stored in the github repository/googledrive \n",
    "filepath= \"C:/Users/Belen/Desktop/nga_median_spend_model_train_data.xlsx\"\n",
    "df = pd.read_excel(filepath, sheet_name=0)"
   ]
  },
  {
   "cell_type": "code",
   "execution_count": 3,
   "id": "fff5004f",
   "metadata": {},
   "outputs": [
    {
     "name": "stdout",
     "output_type": "stream",
     "text": [
      "                            OLS Regression Results                            \n",
      "==============================================================================\n",
      "Dep. Variable:           median_spend   R-squared:                       0.292\n",
      "Model:                            OLS   Adj. R-squared:                  0.286\n",
      "Method:                 Least Squares   F-statistic:                     44.20\n",
      "Date:                Mon, 05 Jun 2023   Prob (F-statistic):           3.60e-38\n",
      "Time:                        00:07:25   Log-Likelihood:                -6990.8\n",
      "No. Observations:                 541   AIC:                         1.399e+04\n",
      "Df Residuals:                     535   BIC:                         1.402e+04\n",
      "Df Model:                           5                                         \n",
      "Covariance Type:            nonrobust                                         \n",
      "================================================================================================\n",
      "                                   coef    std err          t      P>|t|      [0.025      0.975]\n",
      "------------------------------------------------------------------------------------------------\n",
      "const                        -2.383e+05   6.38e+04     -3.733      0.000   -3.64e+05   -1.13e+05\n",
      "accessibility_to_cities_2015 -9691.6715   2367.547     -4.094      0.000   -1.43e+04   -5040.843\n",
      "chirps_2015                    1.48e+04   3647.457      4.057      0.000    7631.258     2.2e+04\n",
      "modis_lst_night_average_2015  1.545e+04   3544.595      4.359      0.000    8488.846    2.24e+04\n",
      "sedac_gpw_2015                   3.9246      1.281      3.063      0.002       1.407       6.442\n",
      "viirs_nightlights_2015        4840.7610    998.240      4.849      0.000    2879.811    6801.711\n",
      "==============================================================================\n",
      "Omnibus:                      481.108   Durbin-Watson:                   1.787\n",
      "Prob(Omnibus):                  0.000   Jarque-Bera (JB):            15560.018\n",
      "Skew:                           3.799   Prob(JB):                         0.00\n",
      "Kurtosis:                      28.151   Cond. No.                     6.46e+04\n",
      "==============================================================================\n",
      "\n",
      "Notes:\n",
      "[1] Standard Errors assume that the covariance matrix of the errors is correctly specified.\n",
      "[2] The condition number is large, 6.46e+04. This might indicate that there are\n",
      "strong multicollinearity or other numerical problems.\n"
     ]
    }
   ],
   "source": [
    "### Testing variable selection methods\n",
    "\n",
    "#### backforward selection variables\n",
    "\n",
    "X = df.drop(['Unnamed: 0','median_spend', 'lat', 'long'], axis=1)\n",
    "y = df['median_spend']                                 \n",
    "X = sm.add_constant(X)\n",
    "model = sm.OLS(y, X)\n",
    "\n",
    "results = model.fit()\n",
    "\n",
    "p_values = results.pvalues[1:]  \n",
    "\n",
    "while p_values.max() > 0.01:\n",
    "    max_p_index = p_values.idxmax()  \n",
    "    X = X.drop(max_p_index, axis=1)\n",
    "    model = sm.OLS(y, X)\n",
    "    results = model.fit()    \n",
    "    p_values = results.pvalues[1:]\n",
    "\n",
    "print(results.summary())\n"
   ]
  },
  {
   "cell_type": "code",
   "execution_count": 4,
   "id": "4a7f52e1",
   "metadata": {},
   "outputs": [],
   "source": [
    "def multiple_linear_regression(dependent_variable, independent_variables):\n",
    "    X = sm.add_constant(independent_variables)\n",
    "    # Fit multiple linear regression\n",
    "    model = sm.OLS(dependent_variable, X)\n",
    "    results = model.fit()\n",
    "    print(results.summary())\n",
    "    \n",
    "    # Get residuals\n",
    "    residuals = results.resid\n",
    "    \n",
    "    # Create subplots for residuals and QQ plot\n",
    "    fig, (ax1, ax2) = plt.subplots(1, 2, figsize=(10, 4))\n",
    "    \n",
    "    # Plot residuals\n",
    "    ax1.scatter(dependent_variable, residuals)\n",
    "    ax1.axhline(y=0, color='r', linestyle='--')\n",
    "    ax1.set_xlabel('Dependent Variable')\n",
    "    ax1.set_ylabel('Residuals')\n",
    "    ax1.set_title('Residuals Plot')\n",
    "    \n",
    "    # QQ plot of residuals\n",
    "    smg.qqplot(residuals, line='s', ax=ax2)\n",
    "    ax2.set_xlabel('Theoretical Quantiles')\n",
    "    ax2.set_ylabel('Sample Quantiles')\n",
    "    ax2.set_title('QQ Plot of Residuals')\n",
    "    \n",
    "    # Adjust the layout and display the plots\n",
    "    plt.tight_layout()\n",
    "    plt.show()"
   ]
  },
  {
   "cell_type": "code",
   "execution_count": 5,
   "id": "501fc94b",
   "metadata": {},
   "outputs": [
    {
     "name": "stdout",
     "output_type": "stream",
     "text": [
      "                            OLS Regression Results                            \n",
      "==============================================================================\n",
      "Dep. Variable:           median_spend   R-squared:                       0.397\n",
      "Model:                            OLS   Adj. R-squared:                  0.393\n",
      "Method:                 Least Squares   F-statistic:                     117.7\n",
      "Date:                Mon, 05 Jun 2023   Prob (F-statistic):           1.36e-58\n",
      "Time:                        00:07:25   Log-Likelihood:                -446.60\n",
      "No. Observations:                 541   AIC:                             901.2\n",
      "Df Residuals:                     537   BIC:                             918.4\n",
      "Df Model:                           3                                         \n",
      "Covariance Type:            nonrobust                                         \n",
      "================================================================================================\n",
      "                                   coef    std err          t      P>|t|      [0.025      0.975]\n",
      "------------------------------------------------------------------------------------------------\n",
      "const                            7.6856      0.321     23.958      0.000       7.055       8.316\n",
      "modis_lst_night_average_2015     0.1946      0.016     12.013      0.000       0.163       0.226\n",
      "accessibility_to_cities_2015    -0.0956      0.013     -7.440      0.000      -0.121      -0.070\n",
      "viirs_nightlights_2015           0.0291      0.005      5.505      0.000       0.019       0.039\n",
      "==============================================================================\n",
      "Omnibus:                        6.962   Durbin-Watson:                   1.774\n",
      "Prob(Omnibus):                  0.031   Jarque-Bera (JB):                6.899\n",
      "Skew:                           0.240   Prob(JB):                       0.0318\n",
      "Kurtosis:                       3.276   Cond. No.                         270.\n",
      "==============================================================================\n",
      "\n",
      "Notes:\n",
      "[1] Standard Errors assume that the covariance matrix of the errors is correctly specified.\n"
     ]
    },
    {
     "ename": "NameError",
     "evalue": "name 'smg' is not defined",
     "output_type": "error",
     "traceback": [
      "\u001b[1;31m---------------------------------------------------------------------------\u001b[0m",
      "\u001b[1;31mNameError\u001b[0m                                 Traceback (most recent call last)",
      "Cell \u001b[1;32mIn[5], line 3\u001b[0m\n\u001b[0;32m      1\u001b[0m independient_variables \u001b[38;5;241m=\u001b[39m df[[\u001b[38;5;124m'\u001b[39m\u001b[38;5;124mmodis_lst_night_average_2015\u001b[39m\u001b[38;5;124m'\u001b[39m,\u001b[38;5;124m'\u001b[39m\u001b[38;5;124maccessibility_to_cities_2015\u001b[39m\u001b[38;5;124m'\u001b[39m,\u001b[38;5;124m'\u001b[39m\u001b[38;5;124mviirs_nightlights_2015\u001b[39m\u001b[38;5;124m'\u001b[39m]]\n\u001b[0;32m      2\u001b[0m dependient_variable \u001b[38;5;241m=\u001b[39m np\u001b[38;5;241m.\u001b[39mlog(df[\u001b[38;5;124m'\u001b[39m\u001b[38;5;124mmedian_spend\u001b[39m\u001b[38;5;124m'\u001b[39m])\n\u001b[1;32m----> 3\u001b[0m \u001b[43mmultiple_linear_regression\u001b[49m\u001b[43m(\u001b[49m\u001b[43mdependient_variable\u001b[49m\u001b[43m,\u001b[49m\u001b[43m \u001b[49m\u001b[43mindependient_variables\u001b[49m\u001b[43m)\u001b[49m\n",
      "Cell \u001b[1;32mIn[4], line 22\u001b[0m, in \u001b[0;36mmultiple_linear_regression\u001b[1;34m(dependent_variable, independent_variables)\u001b[0m\n\u001b[0;32m     19\u001b[0m ax1\u001b[38;5;241m.\u001b[39mset_title(\u001b[38;5;124m'\u001b[39m\u001b[38;5;124mResiduals Plot\u001b[39m\u001b[38;5;124m'\u001b[39m)\n\u001b[0;32m     21\u001b[0m \u001b[38;5;66;03m# QQ plot of residuals\u001b[39;00m\n\u001b[1;32m---> 22\u001b[0m \u001b[43msmg\u001b[49m\u001b[38;5;241m.\u001b[39mqqplot(residuals, line\u001b[38;5;241m=\u001b[39m\u001b[38;5;124m'\u001b[39m\u001b[38;5;124ms\u001b[39m\u001b[38;5;124m'\u001b[39m, ax\u001b[38;5;241m=\u001b[39max2)\n\u001b[0;32m     23\u001b[0m ax2\u001b[38;5;241m.\u001b[39mset_xlabel(\u001b[38;5;124m'\u001b[39m\u001b[38;5;124mTheoretical Quantiles\u001b[39m\u001b[38;5;124m'\u001b[39m)\n\u001b[0;32m     24\u001b[0m ax2\u001b[38;5;241m.\u001b[39mset_ylabel(\u001b[38;5;124m'\u001b[39m\u001b[38;5;124mSample Quantiles\u001b[39m\u001b[38;5;124m'\u001b[39m)\n",
      "\u001b[1;31mNameError\u001b[0m: name 'smg' is not defined"
     ]
    },
    {
     "data": {
      "image/png": "[encoded data removed]",
      "text/plain": [
       "<Figure size 720x288 with 2 Axes>"
      ]
     },
     "metadata": {
      "needs_background": "light"
     },
     "output_type": "display_data"
    }
   ],
   "source": [
    "independient_variables = df[['modis_lst_night_average_2015','accessibility_to_cities_2015','viirs_nightlights_2015']]\n",
    "dependient_variable = np.log(df['median_spend'])\n",
    "multiple_linear_regression(dependient_variable, independient_variables)"
   ]
  },
  {
   "cell_type": "code",
   "execution_count": null,
   "id": "9a169526",
   "metadata": {},
   "outputs": [],
   "source": [
    "independient_variables = df[['modis_lst_night_average_2015','accessibility_to_cities_2015','viirs_nightlights_2015','chirps_2015']]\n",
    "dependient_variable = np.log(df['median_spend'])\n",
    "multiple_linear_regression(dependient_variable, independient_variables)"
   ]
  },
  {
   "cell_type": "code",
   "execution_count": null,
   "id": "98c89059",
   "metadata": {},
   "outputs": [],
   "source": [
    "#Function to test models adding higher-order terms.\n",
    "\n",
    "def multiple_linear_regression2(dependient_variable, independient_variables):   \n",
    "    X = sm.add_constant(independient_variables)    \n",
    "    for var in independient_variables.columns:\n",
    "        X[var + '_squared'] = X[var] ** 2\n",
    "        X[var + '_cubed'] = X[var] ** 3  \n",
    "    model = sm.OLS(dependient_variable, X)\n",
    "    results = model.fit()   \n",
    "    print(results.summary())   \n",
    "    residuals = results.resid \n",
    "    plt.scatter(dependient_variable, residuals)\n",
    "    plt.axhline(y=0, color='r', linestyle='--')\n",
    "    plt.xlabel('Variable Dependiente')\n",
    "    plt.ylabel('Residuos')\n",
    "    plt.title('Gráfico de Residuos')\n",
    "    plt.show()"
   ]
  },
  {
   "cell_type": "code",
   "execution_count": null,
   "id": "e1039cd1",
   "metadata": {},
   "outputs": [],
   "source": [
    "independient_variables = df[['modis_lst_night_average_2015', 'accessibility_to_cities_2015', 'viirs_nightlights_2015', 'sedac_gpw_2015']]\n",
    "dependient_variable = np.log(df['median_spend'])\n",
    "multiple_linear_regression2(dependient_variable, independient_variables)\n"
   ]
  },
  {
   "cell_type": "code",
   "execution_count": null,
   "id": "996d9c59",
   "metadata": {},
   "outputs": [],
   "source": [
    "independient_variables = df[['modis_lst_night_average_2015', 'accessibility_to_cities_2015', 'viirs_nightlights_2015',]]\n",
    "independient_variables_log = np.log(independient_variables)\n",
    "dependient_variable = np.log(df['median_spend'])\n",
    "multiple_linear_regression(dependient_variable, independient_variables)"
   ]
  }
 ],
 "metadata": {
  "kernelspec": {
   "display_name": "Python 3 (ipykernel)",
   "language": "python",
   "name": "python3"
  },
  "language_info": {
   "codemirror_mode": {
    "name": "ipython",
    "version": 3
   },
   "file_extension": ".py",
   "mimetype": "text/x-python",
   "name": "python",
   "nbconvert_exporter": "python",
   "pygments_lexer": "ipython3",
   "version": "3.10.11"
  }
 },
 "nbformat": 4,
 "nbformat_minor": 5
}
